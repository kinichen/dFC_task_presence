{
 "cells": [
  {
   "cell_type": "code",
   "execution_count": 1,
   "metadata": {},
   "outputs": [
    {
     "ename": "",
     "evalue": "",
     "output_type": "error",
     "traceback": [
      "\u001b[1;31mThe kernel failed to start as the Python Environment '.venv (Python 3.12.11)' is no longer available. Consider selecting another kernel or refreshing the list of Python Environments."
     ]
    }
   ],
   "source": [
    "import yaml\n",
    "import numpy as np\n",
    "import torch\n",
    "from torch.utils.data import random_split\n",
    "import torch.nn as nn\n",
    "import torch.nn.functional as F\n",
    "from torch_geometric.data import Data, Dataset\n",
    "from torch_geometric.loader import DataLoader\n",
    "from torch_geometric.nn import GCNConv, global_mean_pool\n",
    "from sklearn.metrics import balanced_accuracy_score, roc_auc_score\n",
    "from utilities.utils import get_n_ROI, vec_to_symmetric_matrix\n",
    "\n",
    "################## Set for your dataset name ##################\n",
    "DATASET = \"sim_timefreq\" # simulated dFC dataset assessed by time frequency method"
   ]
  },
  {
   "cell_type": "code",
   "execution_count": null,
   "metadata": {},
   "outputs": [],
   "source": [
    "# Load configuration file for filepath\n",
    "with open(\"config.yaml\", \"r\") as f:\n",
    "    config = yaml.safe_load(f)\n",
    "my_filepath = config[\"datasets\"][DATASET][\"path\"]\n",
    "\n",
    "# Loading dataset for 1 task paradigm assessed by 1 method for all subjects (1 run)\n",
    "dFC = np.load(my_filepath, allow_pickle=True)\n",
    "dFC_dict = dFC.item() # extract the dictionary from np array\n",
    "\n",
    "X = dFC_dict[\"X\"]\n",
    "y = dFC_dict[\"y\"]\n",
    "subj_label = dFC_dict[\"subj_label\"]\n",
    "method = dFC_dict[\"measure_name\"]"
   ]
  },
  {
   "cell_type": "code",
   "execution_count": null,
   "metadata": {},
   "outputs": [],
   "source": [
    "def dfc_to_graph(dfc_matrix, label):\n",
    "    \"\"\"\n",
    "    Convert a dFC matrix into a fully connected weighted graph.\n",
    "    \"\"\"\n",
    "    num_nodes = dfc_matrix.shape[0]\n",
    "\n",
    "    # Node features: all nodes get identical 1D feature (e.g., [[1.0], [1.0], ..., [1.0]])\n",
    "    x = torch.ones((num_nodes, 1), dtype=torch.float)\n",
    "\n",
    "    # Create edge_index for all pairs (excluding self-loops)\n",
    "    edge_index = torch.tensor([[i, j] for i in range(num_nodes) for j in range(num_nodes) if i != j], dtype=torch.long).t()\n",
    "\n",
    "    # Get corresponding edge weights from the dFC matrix\n",
    "    edge_weights = torch.tensor(dfc_matrix[edge_index[0], edge_index[1]], dtype=torch.float)\n",
    "\n",
    "    return Data(x=x, edge_index=edge_index, edge_attr=edge_weights, y=torch.tensor([label], dtype=torch.float))\n"
   ]
  },
  {
   "cell_type": "code",
   "execution_count": null,
   "metadata": {},
   "outputs": [],
   "source": [
    "class dFCGraphDataset(Dataset):\n",
    "    def __init__(self, X, y):\n",
    "        \"\"\"\n",
    "        Parameters:\n",
    "            X: 2D numpy array of shape (n_samples, num_features)\n",
    "            y: 1D array-like of binary labels\n",
    "        \"\"\"\n",
    "        self.X = X\n",
    "        self.y = y\n",
    "\n",
    "    def __len__(self):\n",
    "        return len(self.y)\n",
    "\n",
    "    def __getitem__(self, idx):\n",
    "        vec = self.X[idx]\n",
    "        label = self.y[idx]\n",
    "\n",
    "        # Convert vector to symmetric matrix\n",
    "        roi = get_n_ROI(1, -1, -2 * X.shape[1])\n",
    "        dfc_matrix = vec_to_symmetric_matrix(vec, roi)\n",
    "\n",
    "        # Convert symmetric matrix to graph data object\n",
    "        data = dfc_to_graph(dfc_matrix, label)\n",
    "\n",
    "        return data"
   ]
  },
  {
   "cell_type": "code",
   "execution_count": null,
   "metadata": {},
   "outputs": [],
   "source": [
    "# Create DataLoaders for training and testing\n",
    "# print(\"Creating DataLoaders\")\n",
    "\n",
    "dataset = dFCGraphDataset(X, y)\n",
    "train_size = int(0.8 * len(dataset))\t# 8/2 train/test split\n",
    "test_size = len(dataset) - train_size\n",
    "\n",
    "generator = torch.Generator().manual_seed(42) \t# for reproducibility\n",
    "train_dataset, test_dataset = random_split(dataset, [train_size, test_size], \n",
    "                                           generator=generator)\n",
    "# shuffle=True at each epoch for better generalization during training\n",
    "train_loader = DataLoader(train_dataset, batch_size=16, shuffle=True)\n",
    "test_loader = DataLoader(test_dataset, batch_size=16, shuffle=False)"
   ]
  },
  {
   "cell_type": "code",
   "execution_count": null,
   "metadata": {},
   "outputs": [],
   "source": [
    "# Basic 2 layer GCN model for graph = dFC matrix classification\n",
    "class GCN(torch.nn.Module):\n",
    "    def __init__(self, hidden_dim=32):\t# hidden_dim is the number of node features\n",
    "        super(GCN, self).__init__()\n",
    "        self.conv1 = GCNConv(1, hidden_dim)  # 1 input feature → hidden_dim\n",
    "        self.conv2 = GCNConv(hidden_dim, hidden_dim)\n",
    "        self.classifier = nn.Linear(hidden_dim, 1)  # Binary classification\n",
    "\n",
    "\t# message passing/neighbourhood aggregation and node embedding updating\n",
    "\t# x = node features; batch = which nodes belong to which graph in a batch\n",
    "    def forward(self, x, edge_index, edge_attr, batch):\n",
    "        x = self.conv1(x, edge_index, edge_weight=edge_attr)\n",
    "        x = F.relu(x)\t# non-linearity\n",
    "        x = self.conv2(x, edge_index, edge_weight=edge_attr)\n",
    "        x = F.relu(x)\n",
    "\n",
    "        # Pooling: average node embeddings to get graph-level embedding\n",
    "        x = global_mean_pool(x, batch)\t# shape: (num_graphs, hidden_dim)\n",
    "\n",
    "        out = self.classifier(x)\t# 1 logit per graph; shape: (num_graphs, 1)\n",
    "        return out\n"
   ]
  },
  {
   "cell_type": "code",
   "execution_count": null,
   "metadata": {},
   "outputs": [],
   "source": [
    "model = GCN()\t# not pretrained\n",
    "optimizer = torch.optim.Adam(model.parameters(), lr=1e-3)\n",
    "criterion = nn.BCEWithLogitsLoss()\n",
    "\n",
    "device = torch.device('cuda' if torch.cuda.is_available() else 'cpu')\n",
    "model = model.to(device)"
   ]
  },
  {
   "cell_type": "code",
   "execution_count": null,
   "metadata": {},
   "outputs": [],
   "source": [
    "# Training loop\n",
    "# print(\"Beginning training...\", flush=True)\n",
    "for epoch in range(10):\n",
    "    model.train()\n",
    "    total_loss = 0\n",
    "    for data in train_loader:\n",
    "        data = data.to(device)\n",
    "\t\tdata.edge_attr = data.edge_attr.to(device)\n",
    "\t\tdata.y = data.y.to(device)\n",
    "\n",
    "        optimizer.zero_grad()\n",
    "        out = model(data.x, data.edge_index, data.edge_attr, data.batch)\n",
    "        loss = criterion(out, data.y.unsqueeze(1))\n",
    "        loss.backward()\n",
    "        optimizer.step()\n",
    "        total_loss += loss.item()\n",
    "    print(f\"Epoch {epoch+1}, Loss: {total_loss / len(train_loader):.4f}\")"
   ]
  },
  {
   "cell_type": "code",
   "execution_count": null,
   "metadata": {},
   "outputs": [],
   "source": [
    "# Evaluation loop\n",
    "model.eval()\n",
    "all_preds, all_probs, all_labels = [], [], []\n",
    "\n",
    "with torch.no_grad():\n",
    "    for data in test_loader:\n",
    "        data = data.to(device)\n",
    "        out = model(data.x, data.edge_index, data.edge_attr, data.batch)\n",
    "        probs = torch.sigmoid(out)\n",
    "        preds = (probs > 0.5).float()\n",
    "        all_preds.extend(preds.cpu().numpy())\n",
    "        all_probs.extend(probs.cpu().numpy())\n",
    "        all_labels.extend(data.y.cpu().numpy())\n",
    "\n",
    "print(\"Test Accuracy:\", balanced_accuracy_score(all_labels, all_preds))\n",
    "print(\"Test AUC:\", roc_auc_score(all_labels, all_probs))"
   ]
  }
 ],
 "metadata": {
  "kernelspec": {
   "display_name": "Python (dFC_task_presence)",
   "language": "python",
   "name": "dfc_task_presence"
  },
  "language_info": {
   "codemirror_mode": {
    "name": "ipython",
    "version": 3
   },
   "file_extension": ".py",
   "mimetype": "text/x-python",
   "name": "python",
   "nbconvert_exporter": "python",
   "pygments_lexer": "ipython3",
   "version": "3.12.11"
  }
 },
 "nbformat": 4,
 "nbformat_minor": 2
}
