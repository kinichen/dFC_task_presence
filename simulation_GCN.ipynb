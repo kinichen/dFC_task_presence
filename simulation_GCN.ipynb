{
 "cells": [
  {
   "cell_type": "code",
   "execution_count": null,
   "metadata": {},
   "outputs": [],
   "source": [
    "import torch\n",
    "import torch.nn as nn\n",
    "import torch.nn.functional as F\n",
    "from torch_geometric.data import Data, Dataset, DataLoader\n",
    "from torch_geometric.nn import GCNConv, global_mean_pool"
   ]
  },
  {
   "cell_type": "code",
   "execution_count": null,
   "metadata": {},
   "outputs": [],
   "source": [
    "def dfc_to_graph(dfc_matrix, label):\n",
    "    \"\"\"\n",
    "    Convert a dFC matrix into a fully connected weighted graph.\n",
    "    \"\"\"\n",
    "    num_nodes = dfc_matrix.shape[0]\n",
    "\n",
    "    # Node features: all nodes get identical 1D feature (e.g., [[1.0], [1.0], ..., [1.0]])\n",
    "    x = torch.ones((num_nodes, 1), dtype=torch.float)\n",
    "\n",
    "    # Create edge_index for all pairs (excluding self-loops if desired)\n",
    "    edge_index = torch.tensor([[i, j] for i in range(num_nodes) for j in range(num_nodes) if i != j], dtype=torch.long).t()\n",
    "\n",
    "    # Get corresponding edge weights from the dFC matrix\n",
    "    edge_weights = dfc_matrix[edge_index[0], edge_index[1]]\n",
    "\n",
    "    return Data(x=x, edge_index=edge_index, edge_attr=edge_weights, y=torch.tensor([label], dtype=torch.float))\n"
   ]
  }
 ],
 "metadata": {
  "kernelspec": {
   "display_name": "neuro_jb_lab_env",
   "language": "python",
   "name": "python3"
  },
  "language_info": {
   "name": "python",
   "version": "3.12.4"
  }
 },
 "nbformat": 4,
 "nbformat_minor": 2
}
