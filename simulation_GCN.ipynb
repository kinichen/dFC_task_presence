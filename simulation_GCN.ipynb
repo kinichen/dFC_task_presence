{
 "cells": [
  {
   "cell_type": "code",
   "execution_count": null,
   "metadata": {},
   "outputs": [],
   "source": [
    "import torch\n",
    "import torch.nn as nn\n",
    "import torch.nn.functional as F\n",
    "from torch_geometric.data import Data, Dataset, DataLoader\n",
    "from torch_geometric.nn import GCNConv, global_mean_pool\n",
    "\n",
    "from utilities/utils.py import get_n_ROI, vec_to_symmetric_matrix"
   ]
  },
  {
   "cell_type": "code",
   "execution_count": null,
   "metadata": {},
   "outputs": [],
   "source": [
    "# Load configuration file for filepath\n",
    "with open(\"config.yaml\", \"r\") as f:\n",
    "    config = yaml.safe_load(f)\n",
    "my_filepath = config[\"simulation_filepath\"]\n",
    "\n",
    "# Loading dataset for 1 task paradigm assessed by 1 method for all subjects (1 run)\n",
    "dFC = np.load(my_filepath, allow_pickle=True)\n",
    "dFC_dict = dFC.item() # extract the dictionary from np array\n",
    "\n",
    "X = dFC_dict[\"X\"]\n",
    "y = dFC_dict[\"y\"]\n",
    "subj_label = dFC_dict[\"subj_label\"]\n",
    "method = dFC_dict[\"measure_name\"]"
   ]
  },
  {
   "cell_type": "code",
   "execution_count": null,
   "metadata": {},
   "outputs": [],
   "source": [
    "def dfc_to_graph(dfc_matrix, label):\n",
    "    \"\"\"\n",
    "    Convert a dFC matrix into a fully connected weighted graph.\n",
    "    \"\"\"\n",
    "    num_nodes = dfc_matrix.shape[0]\n",
    "\n",
    "    # Node features: all nodes get identical 1D feature (e.g., [[1.0], [1.0], ..., [1.0]])\n",
    "    x = torch.ones((num_nodes, 1), dtype=torch.float)\n",
    "\n",
    "    # Create edge_index for all pairs (excluding self-loops)\n",
    "    edge_index = torch.tensor([[i, j] for i in range(num_nodes) for j in range(num_nodes) if i != j], dtype=torch.long).t()\n",
    "\n",
    "    # Get corresponding edge weights from the dFC matrix\n",
    "    edge_weights = dfc_matrix[edge_index[0], edge_index[1]]\n",
    "\n",
    "    return Data(x=x, edge_index=edge_index, edge_attr=edge_weights, y=torch.tensor([label], dtype=torch.float))\n"
   ]
  },
  {
   "cell_type": "code",
   "execution_count": null,
   "metadata": {},
   "outputs": [],
   "source": [
    "class dFCGraphDataset(Dataset):\n",
    "    def __init__(self, X, y):\n",
    "        \"\"\"\n",
    "        Parameters:\n",
    "            X: 2D numpy array of shape (n_samples, num_features)\n",
    "            y: 1D array-like of binary labels\n",
    "        \"\"\"\n",
    "        self.X = X\n",
    "        self.y = y\n",
    "\n",
    "    def __len__(self):\n",
    "        return len(self.y)\n",
    "\n",
    "    def __getitem__(self, idx):\n",
    "        vec = self.X[idx]\n",
    "        label = self.y[idx]\n",
    "\n",
    "        # Convert vector to symmetric matrix\n",
    "        dfc_matrix = vec_to_symmetric_matrix(vec)\n",
    "\n",
    "        # Convert symmetric matrix to graph data object\n",
    "        data = dfc_to_graph(dfc_matrix, label)\n",
    "\n",
    "        return data"
   ]
  },
  {
   "cell_type": "code",
   "execution_count": null,
   "metadata": {},
   "outputs": [],
   "source": []
  }
 ],
 "metadata": {
  "kernelspec": {
   "display_name": "neuro_jb_lab_env",
   "language": "python",
   "name": "python3"
  },
  "language_info": {
   "name": "python",
   "version": "3.12.4"
  }
 },
 "nbformat": 4,
 "nbformat_minor": 2
}
